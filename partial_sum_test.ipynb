{
 "cells": [
  {
   "cell_type": "code",
   "execution_count": 1,
   "metadata": {},
   "outputs": [],
   "source": [
    "import numpy as np\n",
    "from collections import defaultdict"
   ]
  },
  {
   "cell_type": "code",
   "execution_count": 2,
   "metadata": {},
   "outputs": [],
   "source": [
    "def remove_values_below_threshold(vec, threshold):\n",
    "    return np.where(vec < threshold, 0, vec)\n",
    "\n",
    "def precompute_partial_sums(vec, max_sum_term_count):\n",
    "    partial_sums = defaultdict(float)\n",
    "    bitsets = np.arange(1 << len(vec))\n",
    "    for b in bitsets:\n",
    "        bitset = np.array(list(np.binary_repr(b, len(vec))), dtype=int)\n",
    "        if np.sum(bitset) <= max_sum_term_count:\n",
    "            partial_sums[tuple(bitset)] = np.dot(bitset, vec)\n",
    "    return partial_sums\n",
    "\n",
    "def ps_matrix_vector(matrices, vec, max_sum_term_count=0, threshold=-1.0):\n",
    "    vec = remove_values_below_threshold(vec, threshold)\n",
    "\n",
    "    if max_sum_term_count == 0:\n",
    "        max_sum_term_count = np.ceil(np.log2(len(vec))).astype(int)\n",
    "\n",
    "    partial_sums = precompute_partial_sums(vec, max_sum_term_count)\n",
    "    \n",
    "    results = []\n",
    "\n",
    "    for matrix in matrices:\n",
    "        result = []\n",
    "        for row in matrix:\n",
    "            row_tuple = tuple(row)\n",
    "            if row_tuple not in partial_sums:\n",
    "                partial_sums[row_tuple] = np.dot(row, vec)\n",
    "            result.append(partial_sums[row_tuple])\n",
    "        results.append(result)"
   ]
  },
  {
   "cell_type": "code",
   "execution_count": 6,
   "metadata": {},
   "outputs": [
    {
     "ename": "ValueError",
     "evalue": "Maximum allowed size exceeded",
     "output_type": "error",
     "traceback": [
      "\u001b[0;31m---------------------------------------------------------------------------\u001b[0m",
      "\u001b[0;31mValueError\u001b[0m                                Traceback (most recent call last)",
      "Cell \u001b[0;32mIn[6], line 7\u001b[0m\n\u001b[1;32m      5\u001b[0m matrices \u001b[38;5;241m=\u001b[39m [np\u001b[38;5;241m.\u001b[39mrandom\u001b[38;5;241m.\u001b[39mchoice([\u001b[38;5;241m0\u001b[39m, \u001b[38;5;241m1\u001b[39m], size\u001b[38;5;241m=\u001b[39m(M, M), p\u001b[38;5;241m=\u001b[39m[s, \u001b[38;5;241m1\u001b[39m\u001b[38;5;241m-\u001b[39ms]) \u001b[38;5;28;01mfor\u001b[39;00m _ \u001b[38;5;129;01min\u001b[39;00m \u001b[38;5;28mrange\u001b[39m(N)]\n\u001b[1;32m      6\u001b[0m vec \u001b[38;5;241m=\u001b[39m np\u001b[38;5;241m.\u001b[39mrandom\u001b[38;5;241m.\u001b[39mrandom(M)\n\u001b[0;32m----> 7\u001b[0m results \u001b[38;5;241m=\u001b[39m \u001b[43mps_matrix_vector\u001b[49m\u001b[43m(\u001b[49m\u001b[43mmatrices\u001b[49m\u001b[43m,\u001b[49m\u001b[43m \u001b[49m\u001b[43mvec\u001b[49m\u001b[43m)\u001b[49m\n\u001b[1;32m      8\u001b[0m \u001b[38;5;28mprint\u001b[39m(results)\n",
      "Cell \u001b[0;32mIn[2], line 19\u001b[0m, in \u001b[0;36mps_matrix_vector\u001b[0;34m(matrices, vec, max_sum_term_count, threshold)\u001b[0m\n\u001b[1;32m     16\u001b[0m \u001b[38;5;28;01mif\u001b[39;00m max_sum_term_count \u001b[38;5;241m==\u001b[39m \u001b[38;5;241m0\u001b[39m:\n\u001b[1;32m     17\u001b[0m     max_sum_term_count \u001b[38;5;241m=\u001b[39m np\u001b[38;5;241m.\u001b[39mceil(np\u001b[38;5;241m.\u001b[39mlog2(\u001b[38;5;241m8\u001b[39m))\u001b[38;5;241m.\u001b[39mastype(\u001b[38;5;28mint\u001b[39m)\n\u001b[0;32m---> 19\u001b[0m partial_sums \u001b[38;5;241m=\u001b[39m \u001b[43mprecompute_partial_sums\u001b[49m\u001b[43m(\u001b[49m\u001b[43mvec\u001b[49m\u001b[43m,\u001b[49m\u001b[43m \u001b[49m\u001b[43mmax_sum_term_count\u001b[49m\u001b[43m)\u001b[49m\n\u001b[1;32m     21\u001b[0m results \u001b[38;5;241m=\u001b[39m []\n\u001b[1;32m     23\u001b[0m \u001b[38;5;28;01mfor\u001b[39;00m matrix \u001b[38;5;129;01min\u001b[39;00m matrices:\n",
      "Cell \u001b[0;32mIn[2], line 6\u001b[0m, in \u001b[0;36mprecompute_partial_sums\u001b[0;34m(vec, max_sum_term_count)\u001b[0m\n\u001b[1;32m      4\u001b[0m \u001b[38;5;28;01mdef\u001b[39;00m \u001b[38;5;21mprecompute_partial_sums\u001b[39m(vec, max_sum_term_count):\n\u001b[1;32m      5\u001b[0m     partial_sums \u001b[38;5;241m=\u001b[39m defaultdict(\u001b[38;5;28mfloat\u001b[39m)\n\u001b[0;32m----> 6\u001b[0m     bitsets \u001b[38;5;241m=\u001b[39m np\u001b[38;5;241m.\u001b[39marange(\u001b[38;5;241m1\u001b[39m \u001b[38;5;241m<<\u001b[39m \u001b[38;5;28mlen\u001b[39m(vec))\n\u001b[1;32m      7\u001b[0m     \u001b[38;5;28;01mfor\u001b[39;00m b \u001b[38;5;129;01min\u001b[39;00m bitsets:\n\u001b[1;32m      8\u001b[0m         bitset \u001b[38;5;241m=\u001b[39m np\u001b[38;5;241m.\u001b[39marray(\u001b[38;5;28mlist\u001b[39m(np\u001b[38;5;241m.\u001b[39mbinary_repr(b, \u001b[38;5;28mlen\u001b[39m(vec))), dtype\u001b[38;5;241m=\u001b[39m\u001b[38;5;28mint\u001b[39m)\n",
      "\u001b[0;31mValueError\u001b[0m: Maximum allowed size exceeded"
     ]
    }
   ],
   "source": [
    "N = 100 # number of matrices\n",
    "M = 100 # dimension\n",
    "s = 0.01\n",
    "\n",
    "matrices = [np.random.choice([0, 1], size=(M, M), p=[s, 1-s]) for _ in range(N)]\n",
    "vec = np.random.random(M)\n",
    "results = ps_matrix_vector(matrices, vec)\n",
    "print(results)"
   ]
  }
 ],
 "metadata": {
  "kernelspec": {
   "display_name": "base",
   "language": "python",
   "name": "python3"
  },
  "language_info": {
   "codemirror_mode": {
    "name": "ipython",
    "version": 3
   },
   "file_extension": ".py",
   "mimetype": "text/x-python",
   "name": "python",
   "nbconvert_exporter": "python",
   "pygments_lexer": "ipython3",
   "version": "3.11.7"
  }
 },
 "nbformat": 4,
 "nbformat_minor": 2
}
