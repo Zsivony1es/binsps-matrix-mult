{
 "cells": [
  {
   "cell_type": "markdown",
   "metadata": {},
   "source": [
    "# Test case generator\n",
    "---\n",
    "This notebook is used to generate C++ test cases. Since the test use templated classes, matrix sizes need to be known at compile time, thus there was no way \n",
    "to instantiate all tests inside the C++ code using for loops or similar. Every instance takes the template C++ code from the corresponding file in the `res` folder,\n",
    "then writes the set amount of test instances in the file."
   ]
  },
  {
   "cell_type": "code",
   "execution_count": 2,
   "metadata": {},
   "outputs": [],
   "source": [
    "import numpy as np\n",
    "import re"
   ]
  },
  {
   "cell_type": "markdown",
   "metadata": {},
   "source": [
    "### Generate 6DimensionPerformanceTests.cpp"
   ]
  },
  {
   "cell_type": "code",
   "execution_count": 12,
   "metadata": {},
   "outputs": [],
   "source": [
    "performance_test_header = open('./res/dimension_performance_test_header.cpp', 'r').readlines()\n",
    "performance_test_instance = open('./res/dimension_performance_test_template.cpp', 'r').readlines()\n",
    "Ns = np.linspace(100, 1000, 10).astype(int)\n",
    "with open('./test/6DimensionPerformanceTests.cpp', 'w') as f:\n",
    "    f.writelines(performance_test_header)\n",
    "    for N in Ns:\n",
    "        to_write = list(map(lambda x: x.replace('<N>', str(N)).replace('<M>', str(N)), performance_test_instance))\n",
    "        f.writelines(to_write)"
   ]
  },
  {
   "cell_type": "markdown",
   "metadata": {},
   "source": [
    "### Generate 7MultiProductPerformanceTests.cpp\n",
    "\n",
    "Generates a list of values, on which the test is run, using a NumPy linspace object. It will replace the corresponding line in the test file `7MultiProductPerformanceTest.cpp`"
   ]
  },
  {
   "cell_type": "code",
   "execution_count": 5,
   "metadata": {},
   "outputs": [],
   "source": [
    "# Generate string to replace\n",
    "rep_str = \"\"\n",
    "Ns = np.linspace(10, 100, 10).astype(int)\n",
    "for n in Ns:\n",
    "    rep_str += (str(n) + \", \")\n",
    "rep_str = rep_str[:-2]\n",
    "rep_str = \"::testing::Values(\" + rep_str + \")\"\n",
    "\n",
    "file_handle = open(\"./test/7MultiProductPerformanceTest.cpp\", 'r')\n",
    "file_string = file_handle.read()\n",
    "file_handle.close()\n",
    "\n",
    "pattern = r'::testing::Values\\((.*?)\\)'\n",
    "file_string = (re.sub(pattern, rep_str, file_string))\n",
    "file_handle = open(\"./test/7MultiProductPerformanceTest.cpp\", 'w')\n",
    "file_handle.write(file_string)\n",
    "file_handle.close()"
   ]
  }
 ],
 "metadata": {
  "kernelspec": {
   "display_name": "base",
   "language": "python",
   "name": "python3"
  },
  "language_info": {
   "codemirror_mode": {
    "name": "ipython",
    "version": 3
   },
   "file_extension": ".py",
   "mimetype": "text/x-python",
   "name": "python",
   "nbconvert_exporter": "python",
   "pygments_lexer": "ipython3",
   "version": "3.11.7"
  }
 },
 "nbformat": 4,
 "nbformat_minor": 2
}
