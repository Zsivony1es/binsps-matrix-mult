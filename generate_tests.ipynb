{
 "cells": [
  {
   "cell_type": "markdown",
   "metadata": {},
   "source": [
    "# Test case generator\n",
    "---"
   ]
  },
  {
   "cell_type": "code",
   "execution_count": 2,
   "metadata": {},
   "outputs": [],
   "source": [
    "import numpy as np\n",
    "import re"
   ]
  },
  {
   "cell_type": "markdown",
   "metadata": {},
   "source": [
    "### Generate 4SparsityPerformanceTests.cpp\n",
    "\n",
    "Generates a list of values, on which the test is run, using a NumPy logspace object. It will replace the corresponding line in the test file `4SparsityPerformanceTests.cpp`"
   ]
  },
  {
   "cell_type": "code",
   "execution_count": 22,
   "metadata": {},
   "outputs": [
    {
     "name": "stdout",
     "output_type": "stream",
     "text": [
      "Test values: \n",
      "[2.50000000e-01 1.93801691e-01 1.50236381e-01 1.16464259e-01\n",
      " 9.02838809e-02 6.99886750e-02 5.42556942e-02 4.20593810e-02\n",
      " 3.26047166e-02 2.52753968e-02 1.95936585e-02 1.51891366e-02\n",
      " 1.17747214e-02 9.12784365e-03 7.07596613e-03 5.48533679e-03\n",
      " 4.25227018e-03 3.29638860e-03 2.55538273e-03 1.98094997e-03\n",
      " 1.53564582e-03 1.19044302e-03 9.22839481e-04 7.15391406e-04\n",
      " 5.54576256e-04 4.29911264e-04 3.33270119e-04 2.58353250e-04\n",
      " 2.00277187e-04 1.55256229e-04 1.20355679e-04 9.33005362e-05\n",
      " 7.23272066e-05 5.60685397e-05 4.34647111e-05 3.36941380e-05\n",
      " 2.61199236e-05 2.02483414e-05 1.56966512e-05 1.21681502e-05\n",
      " 9.43283229e-06 7.31239538e-06 5.66861835e-06 4.39435128e-06\n",
      " 3.40653083e-06 2.64076574e-06 2.04713946e-06 1.58695635e-06\n",
      " 1.23021929e-06 9.53674316e-07]\n"
     ]
    }
   ],
   "source": [
    "rep_str = \"\"\n",
    "Ns = np.logspace(-2, -20, 50, base=2).astype(float)\n",
    "\n",
    "print('Test values: ')\n",
    "print(Ns)\n",
    "for n in Ns:\n",
    "    rep_str += (str(n) + \", \")\n",
    "rep_str = rep_str[:-2]\n",
    "rep_str = \"::testing::Values(\" + rep_str + \")\"\n",
    "\n",
    "file_handle = open(\"./test/4SparsityPerformanceTests.cpp\", 'r')\n",
    "file_string = file_handle.read()\n",
    "file_handle.close()\n",
    "\n",
    "pattern = r'::testing::Values\\((.*?)\\)'\n",
    "file_string = (re.sub(pattern, rep_str, file_string))\n",
    "file_handle = open(\"./test/4SparsityPerformanceTests.cpp\", 'w')\n",
    "file_handle.write(file_string)\n",
    "file_handle.close()"
   ]
  },
  {
   "cell_type": "markdown",
   "metadata": {},
   "source": [
    "### Generate 6DimensionPerformanceTests.cpp\n",
    "\n",
    "Since the test use templated classes, matrix sizes need to be known at compile time, thus there was no way \n",
    "to instantiate all tests inside the C++ code using for loops or similar. The code takes the template C++ code from the corresponding file in the `res` folder, then creates/replaces the file `6DimensionPerformanceTests.cpp` with the content."
   ]
  },
  {
   "cell_type": "code",
   "execution_count": 21,
   "metadata": {},
   "outputs": [],
   "source": [
    "performance_test_header = open('./res/dimension_performance_test_header.cpp', 'r').readlines()\n",
    "performance_test_instance = open('./res/dimension_performance_test_template.cpp', 'r').readlines()\n",
    "Ns = np.linspace(100, 1000, 10).astype(int)\n",
    "with open('./test/6DimensionPerformanceTests.cpp', 'w') as f:\n",
    "    f.writelines(performance_test_header)\n",
    "    for N in Ns:\n",
    "        to_write = list(map(lambda x: x.replace('<N>', str(N)).replace('<M>', str(100)), performance_test_instance))\n",
    "        f.writelines(to_write)"
   ]
  },
  {
   "cell_type": "markdown",
   "metadata": {},
   "source": [
    "### Generate 7MultiProductPerformanceTests.cpp\n",
    "\n",
    "Generates a list of values, on which the test is run, using a NumPy linspace object. It will replace the corresponding line in the test file `7MultiProductPerformanceTest.cpp`"
   ]
  },
  {
   "cell_type": "code",
   "execution_count": 5,
   "metadata": {},
   "outputs": [],
   "source": [
    "rep_str = \"\"\n",
    "Ns = np.linspace(10, 100, 10).astype(int)\n",
    "for n in Ns:\n",
    "    rep_str += (str(n) + \", \")\n",
    "rep_str = rep_str[:-2]\n",
    "rep_str = \"::testing::Values(\" + rep_str + \")\"\n",
    "\n",
    "file_handle = open(\"./test/7MultiProductPerformanceTest.cpp\", 'r')\n",
    "file_string = file_handle.read()\n",
    "file_handle.close()\n",
    "\n",
    "pattern = r'::testing::Values\\((.*?)\\)'\n",
    "file_string = (re.sub(pattern, rep_str, file_string))\n",
    "file_handle = open(\"./test/7MultiProductPerformanceTest.cpp\", 'w')\n",
    "file_handle.write(file_string)\n",
    "file_handle.close()"
   ]
  }
 ],
 "metadata": {
  "kernelspec": {
   "display_name": "base",
   "language": "python",
   "name": "python3"
  },
  "language_info": {
   "codemirror_mode": {
    "name": "ipython",
    "version": 3
   },
   "file_extension": ".py",
   "mimetype": "text/x-python",
   "name": "python",
   "nbconvert_exporter": "python",
   "pygments_lexer": "ipython3",
   "version": "3.11.7"
  }
 },
 "nbformat": 4,
 "nbformat_minor": 2
}
