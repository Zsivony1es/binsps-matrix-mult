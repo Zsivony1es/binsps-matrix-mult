{
 "cells": [
  {
   "cell_type": "code",
   "execution_count": null,
   "metadata": {},
   "outputs": [],
   "source": [
    "import numpy as np\n",
    "import matplotlib.pyplot as plt\n",
    "import time\n",
    "\n",
    "dimensions = []\n",
    "runtimes = []\n",
    "\n",
    "plt.plot(dimensions, runtimes, marker='o')\n",
    "plt.xlabel('Dimension')\n",
    "plt.ylabel('Runtime (s)')\n",
    "plt.title('Runtime Behavior of Matrix-Vector Product for Different Dimensions')\n",
    "plt.show()"
   ]
  }
 ],
 "metadata": {
  "kernelspec": {
   "display_name": "base",
   "language": "python",
   "name": "python3"
  },
  "language_info": {
   "codemirror_mode": {
    "name": "ipython",
    "version": 3
   },
   "file_extension": ".py",
   "mimetype": "text/x-python",
   "name": "python",
   "nbconvert_exporter": "python",
   "pygments_lexer": "ipython3",
   "version": "3.11.7"
  }
 },
 "nbformat": 4,
 "nbformat_minor": 2
}
